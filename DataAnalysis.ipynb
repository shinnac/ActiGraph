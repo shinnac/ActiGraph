{
 "cells": [
  {
   "cell_type": "code",
   "execution_count": 11,
   "metadata": {},
   "outputs": [
    {
     "name": "stdout",
     "output_type": "stream",
     "text": [
      "0     NaN\n",
      "1     NaN\n",
      "2     NaN\n",
      "3     NaN\n",
      "4     NaN\n",
      "       ..\n",
      "193   NaN\n",
      "194   NaN\n",
      "195   NaN\n",
      "196   NaN\n",
      "197   NaN\n",
      "Length: 198, dtype: float64\n"
     ]
    }
   ],
   "source": [
    "#アクチグラフのCSVデータを読み込み、活動量データとして見やすい形に修正して出力する。\n",
    "\n",
    "#CSVデータの読み込み\n",
    "#pandasのデータ処理法について：https://qiita.com/sh_tomato/items/a2dba09b181658ca923e\n",
    "\n",
    "import csv\n",
    "import pandas as pd\n",
    "\n",
    "def vector(a): \n",
    "    return sum([(v['x']**2 + v['y']**2 + v['z']**2)**0.5 for v in a]) \n",
    "    \n",
    "\n",
    "df = pd.read_csv('testData.csv',chunksize = 100)\n",
    "#chunksize:一度に読み込む行数。1800行で1分、9000行で5分、18000行で10分分のデータになる。\n",
    "\n",
    "print(vector(df))\n"
   ]
  }
 ],
 "metadata": {
  "kernelspec": {
   "display_name": "base",
   "language": "python",
   "name": "python3"
  },
  "language_info": {
   "codemirror_mode": {
    "name": "ipython",
    "version": 3
   },
   "file_extension": ".py",
   "mimetype": "text/x-python",
   "name": "python",
   "nbconvert_exporter": "python",
   "pygments_lexer": "ipython3",
   "version": "3.9.7"
  },
  "orig_nbformat": 4,
  "vscode": {
   "interpreter": {
    "hash": "ad2bdc8ecc057115af97d19610ffacc2b4e99fae6737bb82f5d7fb13d2f2c186"
   }
  }
 },
 "nbformat": 4,
 "nbformat_minor": 2
}
