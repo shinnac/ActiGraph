{
 "cells": [
  {
   "cell_type": "code",
   "execution_count": 15,
   "metadata": {},
   "outputs": [
    {
     "name": "stdout",
     "output_type": "stream",
     "text": [
      "10.302252693695873\n",
      "10.222652468149164\n",
      "10.198213828988536\n",
      "10.024231459898662\n",
      "9.927789889066746\n",
      "10.75303581582794\n",
      "9.887068917174316\n",
      "10.116240272374643\n",
      "10.425447606058587\n",
      "10.239774506366327\n",
      "10.377497576751756\n",
      "10.27821526568051\n",
      "10.492014223122746\n",
      "10.233384267888859\n",
      "10.755814826309164\n",
      "10.383536751425906\n",
      "10.473259622384054\n",
      "10.55126713628662\n",
      "10.28967841551398\n",
      "6.900459033038277\n"
     ]
    }
   ],
   "source": [
    "#アクチグラフのCSVデータを読み込み、活動量データとして見やすい形に修正して出力する。\n",
    "\n",
    "#CSVデータの読み込み\n",
    "#pandasのデータ処理法について：https://qiita.com/sh_tomato/items/a2dba09b181658ca923e\n",
    "\n",
    "import csv\n",
    "import pandas as pd\n",
    "from numpy import sqrt\n",
    "\n",
    "def vector(a): \n",
    "    return\\\n",
    "        sum([sqrt(sum([a.iloc[i,j]**2 for j in range(len(a.columns))]))\\\n",
    "             for i in range(len(a.index))])\n",
    "    \n",
    "\n",
    "df = pd.read_csv('testData.csv', chunksize=10)\n",
    "#chunksize:一度に読み込む行数。1800行で1分、9000行で5分、18000行で10分分のデータになる。\n",
    "\n",
    "for v in df:\n",
    "    print(vector(v))\n"
   ]
  }
 ],
 "metadata": {
  "kernelspec": {
   "display_name": "base",
   "language": "python",
   "name": "python3"
  },
  "language_info": {
   "codemirror_mode": {
    "name": "ipython",
    "version": 3
   },
   "file_extension": ".py",
   "mimetype": "text/x-python",
   "name": "python",
   "nbconvert_exporter": "python",
   "pygments_lexer": "ipython3",
   "version": "3.9.7"
  },
  "orig_nbformat": 4,
  "vscode": {
   "interpreter": {
    "hash": "ad2bdc8ecc057115af97d19610ffacc2b4e99fae6737bb82f5d7fb13d2f2c186"
   }
  }
 },
 "nbformat": 4,
 "nbformat_minor": 2
}
